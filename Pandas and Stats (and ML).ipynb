{
 "cells": [
  {
   "cell_type": "code",
   "execution_count": 4,
   "metadata": {},
   "outputs": [],
   "source": [
    "import pandas as pd\n",
    "import numpy as np\n",
    "import seaborn as sns\n",
    "import matplotlib.pyplot as plt\n",
    "import scipy.stats\n",
    "import statsmodels.api as sm\n",
    "import statsmodels.formula.api as smf\n",
    "import statsmodels.stats.multicomp as multi\n",
    "from sklearn.model_selection import train_test_split\n",
    "from sklearn.tree import DecisionTreeClassifier\n",
    "from sklearn.metrics import classification_report\n",
    "import sklearn.metrics\n",
    "from sklearn import datasets\n",
    "from sklearn.ensemble import ExtraTreesClassifier\n",
    "from sklearn.ensemble import RandomForestClassifier\n",
    "\n",
    "%matplotlib inline\n",
    "sns.set(style='whitegrid', color_codes=True)"
   ]
  },
  {
   "cell_type": "code",
   "execution_count": 5,
   "metadata": {},
   "outputs": [],
   "source": [
    "cle = pd.read_csv('processed.cleveland.data.txt', header=None)"
   ]
  },
  {
   "cell_type": "code",
   "execution_count": 7,
   "metadata": {},
   "outputs": [
    {
     "data": {
      "text/html": [
       "<div>\n",
       "<style scoped>\n",
       "    .dataframe tbody tr th:only-of-type {\n",
       "        vertical-align: middle;\n",
       "    }\n",
       "\n",
       "    .dataframe tbody tr th {\n",
       "        vertical-align: top;\n",
       "    }\n",
       "\n",
       "    .dataframe thead th {\n",
       "        text-align: right;\n",
       "    }\n",
       "</style>\n",
       "<table border=\"1\" class=\"dataframe\">\n",
       "  <thead>\n",
       "    <tr style=\"text-align: right;\">\n",
       "      <th></th>\n",
       "      <th>0</th>\n",
       "      <th>1</th>\n",
       "      <th>2</th>\n",
       "      <th>3</th>\n",
       "      <th>4</th>\n",
       "      <th>5</th>\n",
       "      <th>6</th>\n",
       "      <th>7</th>\n",
       "      <th>8</th>\n",
       "      <th>9</th>\n",
       "      <th>10</th>\n",
       "      <th>11</th>\n",
       "      <th>12</th>\n",
       "      <th>13</th>\n",
       "    </tr>\n",
       "  </thead>\n",
       "  <tbody>\n",
       "    <tr>\n",
       "      <th>0</th>\n",
       "      <td>63.0</td>\n",
       "      <td>1.0</td>\n",
       "      <td>1.0</td>\n",
       "      <td>145.0</td>\n",
       "      <td>233.0</td>\n",
       "      <td>1.0</td>\n",
       "      <td>2.0</td>\n",
       "      <td>150.0</td>\n",
       "      <td>0.0</td>\n",
       "      <td>2.3</td>\n",
       "      <td>3.0</td>\n",
       "      <td>0.0</td>\n",
       "      <td>6.0</td>\n",
       "      <td>0</td>\n",
       "    </tr>\n",
       "    <tr>\n",
       "      <th>1</th>\n",
       "      <td>67.0</td>\n",
       "      <td>1.0</td>\n",
       "      <td>4.0</td>\n",
       "      <td>160.0</td>\n",
       "      <td>286.0</td>\n",
       "      <td>0.0</td>\n",
       "      <td>2.0</td>\n",
       "      <td>108.0</td>\n",
       "      <td>1.0</td>\n",
       "      <td>1.5</td>\n",
       "      <td>2.0</td>\n",
       "      <td>3.0</td>\n",
       "      <td>3.0</td>\n",
       "      <td>2</td>\n",
       "    </tr>\n",
       "    <tr>\n",
       "      <th>2</th>\n",
       "      <td>67.0</td>\n",
       "      <td>1.0</td>\n",
       "      <td>4.0</td>\n",
       "      <td>120.0</td>\n",
       "      <td>229.0</td>\n",
       "      <td>0.0</td>\n",
       "      <td>2.0</td>\n",
       "      <td>129.0</td>\n",
       "      <td>1.0</td>\n",
       "      <td>2.6</td>\n",
       "      <td>2.0</td>\n",
       "      <td>2.0</td>\n",
       "      <td>7.0</td>\n",
       "      <td>1</td>\n",
       "    </tr>\n",
       "    <tr>\n",
       "      <th>3</th>\n",
       "      <td>37.0</td>\n",
       "      <td>1.0</td>\n",
       "      <td>3.0</td>\n",
       "      <td>130.0</td>\n",
       "      <td>250.0</td>\n",
       "      <td>0.0</td>\n",
       "      <td>0.0</td>\n",
       "      <td>187.0</td>\n",
       "      <td>0.0</td>\n",
       "      <td>3.5</td>\n",
       "      <td>3.0</td>\n",
       "      <td>0.0</td>\n",
       "      <td>3.0</td>\n",
       "      <td>0</td>\n",
       "    </tr>\n",
       "    <tr>\n",
       "      <th>4</th>\n",
       "      <td>41.0</td>\n",
       "      <td>0.0</td>\n",
       "      <td>2.0</td>\n",
       "      <td>130.0</td>\n",
       "      <td>204.0</td>\n",
       "      <td>0.0</td>\n",
       "      <td>2.0</td>\n",
       "      <td>172.0</td>\n",
       "      <td>0.0</td>\n",
       "      <td>1.4</td>\n",
       "      <td>1.0</td>\n",
       "      <td>0.0</td>\n",
       "      <td>3.0</td>\n",
       "      <td>0</td>\n",
       "    </tr>\n",
       "  </tbody>\n",
       "</table>\n",
       "</div>"
      ],
      "text/plain": [
       "     0    1    2      3      4    5    6      7    8    9    10   11   12  13\n",
       "0  63.0  1.0  1.0  145.0  233.0  1.0  2.0  150.0  0.0  2.3  3.0  0.0  6.0   0\n",
       "1  67.0  1.0  4.0  160.0  286.0  0.0  2.0  108.0  1.0  1.5  2.0  3.0  3.0   2\n",
       "2  67.0  1.0  4.0  120.0  229.0  0.0  2.0  129.0  1.0  2.6  2.0  2.0  7.0   1\n",
       "3  37.0  1.0  3.0  130.0  250.0  0.0  0.0  187.0  0.0  3.5  3.0  0.0  3.0   0\n",
       "4  41.0  0.0  2.0  130.0  204.0  0.0  2.0  172.0  0.0  1.4  1.0  0.0  3.0   0"
      ]
     },
     "execution_count": 7,
     "metadata": {},
     "output_type": "execute_result"
    }
   ],
   "source": [
    "cle.head()"
   ]
  },
  {
   "cell_type": "code",
   "execution_count": 8,
   "metadata": {},
   "outputs": [],
   "source": [
    "hung = pd.read_csv('processed.hungarian.data.txt', header=None)"
   ]
  },
  {
   "cell_type": "code",
   "execution_count": 9,
   "metadata": {},
   "outputs": [],
   "source": [
    "swi = pd.read_csv('processed.switzerland.data.txt', header=None)"
   ]
  },
  {
   "cell_type": "code",
   "execution_count": 10,
   "metadata": {},
   "outputs": [],
   "source": [
    "va = pd.read_csv('processed.va.data.txt', header=None)"
   ]
  },
  {
   "cell_type": "code",
   "execution_count": 52,
   "metadata": {},
   "outputs": [
    {
     "data": {
      "text/html": [
       "<div>\n",
       "<style scoped>\n",
       "    .dataframe tbody tr th:only-of-type {\n",
       "        vertical-align: middle;\n",
       "    }\n",
       "\n",
       "    .dataframe tbody tr th {\n",
       "        vertical-align: top;\n",
       "    }\n",
       "\n",
       "    .dataframe thead th {\n",
       "        text-align: right;\n",
       "    }\n",
       "</style>\n",
       "<table border=\"1\" class=\"dataframe\">\n",
       "  <thead>\n",
       "    <tr style=\"text-align: right;\">\n",
       "      <th></th>\n",
       "      <th>0</th>\n",
       "      <th>1</th>\n",
       "      <th>2</th>\n",
       "      <th>3</th>\n",
       "      <th>4</th>\n",
       "      <th>5</th>\n",
       "      <th>6</th>\n",
       "      <th>7</th>\n",
       "      <th>8</th>\n",
       "      <th>9</th>\n",
       "      <th>10</th>\n",
       "      <th>11</th>\n",
       "      <th>12</th>\n",
       "      <th>13</th>\n",
       "    </tr>\n",
       "  </thead>\n",
       "  <tbody>\n",
       "    <tr>\n",
       "      <th>0</th>\n",
       "      <td>63.0</td>\n",
       "      <td>1.0</td>\n",
       "      <td>1.0</td>\n",
       "      <td>145</td>\n",
       "      <td>233</td>\n",
       "      <td>1</td>\n",
       "      <td>2</td>\n",
       "      <td>150</td>\n",
       "      <td>0</td>\n",
       "      <td>2.3</td>\n",
       "      <td>3</td>\n",
       "      <td>0.0</td>\n",
       "      <td>6.0</td>\n",
       "      <td>0</td>\n",
       "    </tr>\n",
       "    <tr>\n",
       "      <th>1</th>\n",
       "      <td>67.0</td>\n",
       "      <td>1.0</td>\n",
       "      <td>4.0</td>\n",
       "      <td>160</td>\n",
       "      <td>286</td>\n",
       "      <td>0</td>\n",
       "      <td>2</td>\n",
       "      <td>108</td>\n",
       "      <td>1</td>\n",
       "      <td>1.5</td>\n",
       "      <td>2</td>\n",
       "      <td>3.0</td>\n",
       "      <td>3.0</td>\n",
       "      <td>2</td>\n",
       "    </tr>\n",
       "    <tr>\n",
       "      <th>2</th>\n",
       "      <td>67.0</td>\n",
       "      <td>1.0</td>\n",
       "      <td>4.0</td>\n",
       "      <td>120</td>\n",
       "      <td>229</td>\n",
       "      <td>0</td>\n",
       "      <td>2</td>\n",
       "      <td>129</td>\n",
       "      <td>1</td>\n",
       "      <td>2.6</td>\n",
       "      <td>2</td>\n",
       "      <td>2.0</td>\n",
       "      <td>7.0</td>\n",
       "      <td>1</td>\n",
       "    </tr>\n",
       "    <tr>\n",
       "      <th>3</th>\n",
       "      <td>37.0</td>\n",
       "      <td>1.0</td>\n",
       "      <td>3.0</td>\n",
       "      <td>130</td>\n",
       "      <td>250</td>\n",
       "      <td>0</td>\n",
       "      <td>0</td>\n",
       "      <td>187</td>\n",
       "      <td>0</td>\n",
       "      <td>3.5</td>\n",
       "      <td>3</td>\n",
       "      <td>0.0</td>\n",
       "      <td>3.0</td>\n",
       "      <td>0</td>\n",
       "    </tr>\n",
       "    <tr>\n",
       "      <th>4</th>\n",
       "      <td>41.0</td>\n",
       "      <td>0.0</td>\n",
       "      <td>2.0</td>\n",
       "      <td>130</td>\n",
       "      <td>204</td>\n",
       "      <td>0</td>\n",
       "      <td>2</td>\n",
       "      <td>172</td>\n",
       "      <td>0</td>\n",
       "      <td>1.4</td>\n",
       "      <td>1</td>\n",
       "      <td>0.0</td>\n",
       "      <td>3.0</td>\n",
       "      <td>0</td>\n",
       "    </tr>\n",
       "  </tbody>\n",
       "</table>\n",
       "</div>"
      ],
      "text/plain": [
       "     0    1    2    3    4  5  6    7  8    9  10   11   12  13\n",
       "0  63.0  1.0  1.0  145  233  1  2  150  0  2.3  3  0.0  6.0   0\n",
       "1  67.0  1.0  4.0  160  286  0  2  108  1  1.5  2  3.0  3.0   2\n",
       "2  67.0  1.0  4.0  120  229  0  2  129  1  2.6  2  2.0  7.0   1\n",
       "3  37.0  1.0  3.0  130  250  0  0  187  0  3.5  3  0.0  3.0   0\n",
       "4  41.0  0.0  2.0  130  204  0  2  172  0  1.4  1  0.0  3.0   0"
      ]
     },
     "execution_count": 52,
     "metadata": {},
     "output_type": "execute_result"
    }
   ],
   "source": [
    "df = pd.concat([cle, hung, swi, va])\n",
    "df.head()"
   ]
  },
  {
   "cell_type": "markdown",
   "metadata": {},
   "source": [
    "# Managing Data"
   ]
  },
  {
   "cell_type": "code",
   "execution_count": 25,
   "metadata": {},
   "outputs": [
    {
     "name": "stdout",
     "output_type": "stream",
     "text": [
      "<class 'pandas.core.frame.DataFrame'>\n",
      "Int64Index: 920 entries, 0 to 199\n",
      "Data columns (total 14 columns):\n",
      " #   Column           Non-Null Count  Dtype   \n",
      "---  ------           --------------  -----   \n",
      " 0   age              920 non-null    float64 \n",
      " 1   sex              920 non-null    category\n",
      " 2   chest_pain       920 non-null    category\n",
      " 3   rest_bp          861 non-null    float64 \n",
      " 4   cholesterol      890 non-null    float64 \n",
      " 5   fasting_bs       830 non-null    category\n",
      " 6   rest_ecg         918 non-null    category\n",
      " 7   max_heart_rate   865 non-null    float64 \n",
      " 8   exercise_angina  865 non-null    category\n",
      " 9   st_depression    858 non-null    float64 \n",
      " 10  slope            611 non-null    category\n",
      " 11  fluoroscopy      309 non-null    category\n",
      " 12  defect           434 non-null    category\n",
      " 13  diagnosis        920 non-null    category\n",
      "dtypes: category(9), float64(5)\n",
      "memory usage: 52.4 KB\n"
     ]
    }
   ],
   "source": [
    "df.columns = ['age', 'sex', 'chest_pain', 'rest_bp', 'cholesterol', 'fasting_bs', 'rest_ecg', 'max_heart_rate', 'exercise_angina', 'st_depression', 'slope', 'fluoroscopy',\n",
    "             'defect', 'diagnosis']\n",
    "\n",
    "# make all values numeric and coerce all non-numeric to nan\n",
    "# this method won't work because they want some categories with \"astype()\"\n",
    "#dfn = df.apply(lambda x: pd.to_numeric(x, errors='coerce'))\n",
    "#dfn['fasting_bs'].astype('category')\n",
    "#dfn.info()\n",
    "\n",
    "df['age'] = pd.to_numeric(df['age'], errors='coerce')\n",
    "df['sex'] = pd.to_numeric(df['sex'], errors='coerce').astype('category')\n",
    "df['chest_pain'] = pd.to_numeric(df['chest_pain'], errors='coerce').astype('category')\n",
    "df['rest_bp'] = pd.to_numeric(df['rest_bp'], errors='coerce')\n",
    "df['cholesterol'] = pd.to_numeric(df['cholesterol'], errors='coerce')\n",
    "df['fasting_bs'] = pd.to_numeric(df['fasting_bs'], errors='coerce').astype('category')\n",
    "df['rest_ecg'] = pd.to_numeric(df['rest_ecg'], errors='coerce').astype('category')\n",
    "df['max_heart_rate'] = pd.to_numeric(df['max_heart_rate'], errors='coerce')\n",
    "df['exercise_angina'] = pd.to_numeric(df['exercise_angina'], errors='coerce').astype('category')\n",
    "df['st_depression'] = pd.to_numeric(df['st_depression'], errors='coerce')\n",
    "df['slope'] = pd.to_numeric(df['slope'], errors='coerce').astype('category')\n",
    "df['fluoroscopy'] = pd.to_numeric(df['fluoroscopy'], errors='coerce').astype('category')\n",
    "df['defect'] = pd.to_numeric(df['defect'], errors='coerce').astype('category')\n",
    "df['diagnosis'] = pd.to_numeric(df['diagnosis'], errors='coerce').astype('category')\n",
    "\n",
    "df.info()\n",
    "#na_strings = ['?'] \n",
    "#df['rest_bp']#.replace(na_strings, np.nan)\n",
    "\n"
   ]
  },
  {
   "cell_type": "code",
   "execution_count": 51,
   "metadata": {},
   "outputs": [
    {
     "data": {
      "text/html": [
       "<div>\n",
       "<style scoped>\n",
       "    .dataframe tbody tr th:only-of-type {\n",
       "        vertical-align: middle;\n",
       "    }\n",
       "\n",
       "    .dataframe tbody tr th {\n",
       "        vertical-align: top;\n",
       "    }\n",
       "\n",
       "    .dataframe thead th {\n",
       "        text-align: right;\n",
       "    }\n",
       "</style>\n",
       "<table border=\"1\" class=\"dataframe\">\n",
       "  <thead>\n",
       "    <tr style=\"text-align: right;\">\n",
       "      <th></th>\n",
       "      <th>age</th>\n",
       "      <th>sex</th>\n",
       "      <th>chest_pain</th>\n",
       "      <th>rest_bp</th>\n",
       "      <th>cholesterol</th>\n",
       "      <th>fasting_bs</th>\n",
       "      <th>rest_ecg</th>\n",
       "      <th>max_heart_rate</th>\n",
       "      <th>exercise_angina</th>\n",
       "      <th>st_depression</th>\n",
       "      <th>diagnosis</th>\n",
       "    </tr>\n",
       "  </thead>\n",
       "  <tbody>\n",
       "    <tr>\n",
       "      <th>0</th>\n",
       "      <td>63.0</td>\n",
       "      <td>1.0</td>\n",
       "      <td>1.0</td>\n",
       "      <td>145.0</td>\n",
       "      <td>233.0</td>\n",
       "      <td>1.0</td>\n",
       "      <td>2.0</td>\n",
       "      <td>150.0</td>\n",
       "      <td>0.0</td>\n",
       "      <td>2.3</td>\n",
       "      <td>0</td>\n",
       "    </tr>\n",
       "    <tr>\n",
       "      <th>1</th>\n",
       "      <td>67.0</td>\n",
       "      <td>1.0</td>\n",
       "      <td>4.0</td>\n",
       "      <td>160.0</td>\n",
       "      <td>286.0</td>\n",
       "      <td>0.0</td>\n",
       "      <td>2.0</td>\n",
       "      <td>108.0</td>\n",
       "      <td>1.0</td>\n",
       "      <td>1.5</td>\n",
       "      <td>2</td>\n",
       "    </tr>\n",
       "    <tr>\n",
       "      <th>2</th>\n",
       "      <td>67.0</td>\n",
       "      <td>1.0</td>\n",
       "      <td>4.0</td>\n",
       "      <td>120.0</td>\n",
       "      <td>229.0</td>\n",
       "      <td>0.0</td>\n",
       "      <td>2.0</td>\n",
       "      <td>129.0</td>\n",
       "      <td>1.0</td>\n",
       "      <td>2.6</td>\n",
       "      <td>1</td>\n",
       "    </tr>\n",
       "    <tr>\n",
       "      <th>3</th>\n",
       "      <td>37.0</td>\n",
       "      <td>1.0</td>\n",
       "      <td>3.0</td>\n",
       "      <td>130.0</td>\n",
       "      <td>250.0</td>\n",
       "      <td>0.0</td>\n",
       "      <td>0.0</td>\n",
       "      <td>187.0</td>\n",
       "      <td>0.0</td>\n",
       "      <td>3.5</td>\n",
       "      <td>0</td>\n",
       "    </tr>\n",
       "    <tr>\n",
       "      <th>4</th>\n",
       "      <td>41.0</td>\n",
       "      <td>0.0</td>\n",
       "      <td>2.0</td>\n",
       "      <td>130.0</td>\n",
       "      <td>204.0</td>\n",
       "      <td>0.0</td>\n",
       "      <td>2.0</td>\n",
       "      <td>172.0</td>\n",
       "      <td>0.0</td>\n",
       "      <td>1.4</td>\n",
       "      <td>0</td>\n",
       "    </tr>\n",
       "  </tbody>\n",
       "</table>\n",
       "</div>"
      ],
      "text/plain": [
       "    age  sex chest_pain  rest_bp  cholesterol fasting_bs rest_ecg  \\\n",
       "0  63.0  1.0        1.0    145.0        233.0        1.0      2.0   \n",
       "1  67.0  1.0        4.0    160.0        286.0        0.0      2.0   \n",
       "2  67.0  1.0        4.0    120.0        229.0        0.0      2.0   \n",
       "3  37.0  1.0        3.0    130.0        250.0        0.0      0.0   \n",
       "4  41.0  0.0        2.0    130.0        204.0        0.0      2.0   \n",
       "\n",
       "   max_heart_rate exercise_angina  st_depression diagnosis  \n",
       "0           150.0             0.0            2.3         0  \n",
       "1           108.0             1.0            1.5         2  \n",
       "2           129.0             1.0            2.6         1  \n",
       "3           187.0             0.0            3.5         0  \n",
       "4           172.0             0.0            1.4         0  "
      ]
     },
     "execution_count": 51,
     "metadata": {},
     "output_type": "execute_result"
    }
   ],
   "source": [
    "## drop columns with a lot of missing data\n",
    "# df.drop('slope defect fluoroscopy'.split(), axis=1, inplace=True)\n",
    "# df.info()\n",
    "\n",
    "## impute values for coulmns with little missing data. In this case with the mode\n",
    "# df['rest_ecg'].fillna(df['rest_ecg'].mode().iloc[0], inplace=True)\n",
    "\n",
    "#df.info()\n",
    "#df.isnull().sum()\n",
    "df_red = df\n",
    "df_clean = df[df_red['rest_bp'].notnull() & df_red['cholesterol'].notnull() & df_red['fasting_bs'].notnull() & df['max_heart_rate'].notnull() & df['exercise_angina'].notnull() &\n",
    "                    df['st_depression'].notnull()]\n",
    "\n",
    "df_clean.head()"
   ]
  },
  {
   "cell_type": "markdown",
   "metadata": {},
   "source": [
    "# Univariate Analysis\n",
    "\n",
    "-for visualizing one variable:\n",
    "\n",
    "if it is categorical we use a bar chart i.e. sns's countplot function\n",
    "\n",
    "if it is quantitative, we can combine a kernel density estimate and a histogram with sns's distplot function\n",
    "\n",
    "for visualizing two variables:\n",
    "\n",
    "C-Q: bivariate bar graph with sns factorplot (bin/collapse explanatory variable), categories on x axis, and mean of response variable on y axis\n",
    "\n",
    "Q-Q: scatterplot with sns regplot\n",
    "\n",
    "C-C: you can plot them one a time. problem with a bivariate graph is that mean has no meaning in context of a categorical variable\n",
    "\n",
    "for further reading: http://sphweb.bumc.bu.edu/otlt/mph-modules/bs/datapresentation/DataPresentation7.html"
   ]
  },
  {
   "cell_type": "code",
   "execution_count": 59,
   "metadata": {},
   "outputs": [
    {
     "data": {
      "text/plain": [
       "Text(0.5, 0.98, 'Freq of Gender')"
      ]
     },
     "execution_count": 59,
     "metadata": {},
     "output_type": "execute_result"
    },
    {
     "data": {
      "image/png": "[encoded data removed]",
      "text/plain": [
       "<Figure size 432x288 with 1 Axes>"
      ]
     },
     "metadata": {},
     "output_type": "display_data"
    }
   ],
   "source": [
    "sns.countplot(x='sex', data=df_clean)\n",
    "plt.suptitle('Freq of Gender')"
   ]
  },
  {
   "cell_type": "code",
   "execution_count": 64,
   "metadata": {},
   "outputs": [
    {
     "name": "stdout",
     "output_type": "stream",
     "text": [
      "[0, 2, 1, 3, 4]\n",
      "Categories (5, int64): [0, 2, 1, 3, 4]\n"
     ]
    },
    {
     "data": {
      "text/plain": [
       "0    0.481781\n",
       "1    0.276653\n",
       "2    0.106613\n",
       "3    0.105263\n",
       "4    0.029690\n",
       "Name: diagnosis, dtype: float64"
      ]
     },
     "execution_count": 64,
     "metadata": {},
     "output_type": "execute_result"
    }
   ],
   "source": [
    "print(df_clean['diagnosis'].unique())\n",
    "df_clean['diagnosis'].value_counts(sort=False, normalize=True)"
   ]
  },
  {
   "cell_type": "code",
   "execution_count": 66,
   "metadata": {},
   "outputs": [
    {
     "data": {
      "text/plain": [
       "Text(0.5, 0.98, 'Freq dist of Diagnosis state')"
      ]
     },
     "execution_count": 66,
     "metadata": {},
     "output_type": "execute_result"
    },
    {
     "data": {
      "image/png": "[encoded data removed]",
      "text/plain": [
       "<Figure size 432x288 with 1 Axes>"
      ]
     },
     "metadata": {},
     "output_type": "display_data"
    }
   ],
   "source": [
    "sns.countplot(x='diagnosis', data=df_clean)\n",
    "plt.suptitle(\"Freq dist of Diagnosis state\")"
   ]
  },
  {
   "cell_type": "code",
   "execution_count": 68,
   "metadata": {},
   "outputs": [
    {
     "data": {
      "text/plain": [
       "count    741.000000\n",
       "mean      53.099865\n",
       "std        9.402028\n",
       "min       28.000000\n",
       "25%       46.000000\n",
       "50%       54.000000\n",
       "75%       60.000000\n",
       "max       77.000000\n",
       "Name: age, dtype: float64"
      ]
     },
     "execution_count": 68,
     "metadata": {},
     "output_type": "execute_result"
    }
   ],
   "source": [
    "df_clean['age'].describe()"
   ]
  },
  {
   "cell_type": "code",
   "execution_count": 72,
   "metadata": {},
   "outputs": [
    {
     "data": {
      "text/plain": [
       "Text(0.5, 0.98, 'Dist of Age')"
      ]
     },
     "execution_count": 72,
     "metadata": {},
     "output_type": "execute_result"
    },
    {
     "data": {
      "image/png": "[encoded data removed]",
      "text/plain": [
       "<Figure size 432x288 with 1 Axes>"
      ]
     },
     "metadata": {},
     "output_type": "display_data"
    }
   ],
   "source": [
    "sns.distplot(df_clean['age'])\n",
    "plt.suptitle('Dist of Age')"
   ]
  },
  {
   "cell_type": "code",
   "execution_count": 74,
   "metadata": {},
   "outputs": [
    {
     "data": {
      "text/plain": [
       "count    741.000000\n",
       "mean     138.740891\n",
       "std       25.828809\n",
       "min       60.000000\n",
       "25%      120.000000\n",
       "50%      140.000000\n",
       "75%      159.000000\n",
       "max      202.000000\n",
       "Name: max_heart_rate, dtype: float64"
      ]
     },
     "execution_count": 74,
     "metadata": {},
     "output_type": "execute_result"
    }
   ],
   "source": [
    "df_clean['max_heart_rate'].describe()"
   ]
  },
  {
   "cell_type": "code",
   "execution_count": 76,
   "metadata": {},
   "outputs": [
    {
     "data": {
      "text/plain": [
       "Text(0.5, 0.98, 'Dist of MHR')"
      ]
     },
     "execution_count": 76,
     "metadata": {},
     "output_type": "execute_result"
    },
    {
     "data": {
      "image/png": "[encoded data removed]",
      "text/plain": [
       "<Figure size 432x288 with 1 Axes>"
      ]
     },
     "metadata": {},
     "output_type": "display_data"
    }
   ],
   "source": [
    "sns.distplot(df_clean['max_heart_rate'])\n",
    "plt.suptitle('Dist of MHR')"
   ]
  },
  {
   "cell_type": "code",
   "execution_count": 78,
   "metadata": {},
   "outputs": [
    {
     "data": {
      "text/plain": [
       "<matplotlib.axes._subplots.AxesSubplot at 0x25721ade8d0>"
      ]
     },
     "execution_count": 78,
     "metadata": {},
     "output_type": "execute_result"
    },
    {
     "data": {
      "image/png": "[encoded data removed]",
      "text/plain": [
       "<Figure size 432x288 with 1 Axes>"
      ]
     },
     "metadata": {},
     "output_type": "display_data"
    }
   ],
   "source": [
    "sns.swarmplot('diagnosis', data=df_clean)"
   ]
  },
  {
   "cell_type": "markdown",
   "metadata": {},
   "source": [
    "**visualizing 2 variables:**\n",
    "\n",
    "C-Q: use sns.catplot(x, y, kind='bar', data)\n",
    "Q-Q: sns.regplot()\n",
    "C-C: \n"
   ]
  },
  {
   "cell_type": "code",
   "execution_count": 81,
   "metadata": {},
   "outputs": [
    {
     "data": {
      "text/plain": [
       "Text(0.5, 0.98, 'Sex by Age')"
      ]
     },
     "execution_count": 81,
     "metadata": {},
     "output_type": "execute_result"
    },
    {
     "data": {
      "image/png": "[encoded data removed]",
      "text/plain": [
       "<Figure size 360x360 with 1 Axes>"
      ]
     },
     "metadata": {},
     "output_type": "display_data"
    }
   ],
   "source": [
    "sns.catplot(x='sex', y='age', kind='bar', data=df_clean)\n",
    "plt.suptitle('Sex by Age')"
   ]
  },
  {
   "cell_type": "code",
   "execution_count": 82,
   "metadata": {},
   "outputs": [
    {
     "data": {
      "text/plain": [
       "Text(0.5, 0.98, 'Sex by rest_bp')"
      ]
     },
     "execution_count": 82,
     "metadata": {},
     "output_type": "execute_result"
    },
    {
     "data": {
      "image/png": "[encoded data removed]",
      "text/plain": [
       "<Figure size 360x360 with 1 Axes>"
      ]
     },
     "metadata": {},
     "output_type": "display_data"
    }
   ],
   "source": [
    "sns.catplot(x='sex', y='rest_bp', kind='bar', data=df_clean)\n",
    "plt.suptitle('Sex by rest_bp')"
   ]
  },
  {
   "cell_type": "code",
   "execution_count": 89,
   "metadata": {},
   "outputs": [
    {
     "data": {
      "text/plain": [
       "<matplotlib.axes._subplots.AxesSubplot at 0x25721881438>"
      ]
     },
     "execution_count": 89,
     "metadata": {},
     "output_type": "execute_result"
    },
    {
     "data": {
      "image/png": "[encoded data removed]",
      "text/plain": [
       "<Figure size 432x288 with 1 Axes>"
      ]
     },
     "metadata": {},
     "output_type": "display_data"
    }
   ],
   "source": [
    "sns.regplot('age', 'cholesterol', data=df_clean, color='blue', line_kws={'color':'red'})"
   ]
  },
  {
   "cell_type": "code",
   "execution_count": 90,
   "metadata": {},
   "outputs": [
    {
     "data": {
      "text/plain": [
       "sex  diagnosis\n",
       "0.0  0            0.176788\n",
       "     1            0.035088\n",
       "     3            0.010796\n",
       "     2            0.009447\n",
       "     4            0.002699\n",
       "1.0  0            0.304993\n",
       "     1            0.241565\n",
       "     2            0.097166\n",
       "     3            0.094467\n",
       "     4            0.026991\n",
       "Name: diagnosis, dtype: float64"
      ]
     },
     "execution_count": 90,
     "metadata": {},
     "output_type": "execute_result"
    }
   ],
   "source": [
    "df_clean.groupby('sex')['diagnosis'].value_counts()/len(df_clean)"
   ]
  },
  {
   "cell_type": "code",
   "execution_count": 97,
   "metadata": {},
   "outputs": [
    {
     "data": {
      "text/plain": [
       "<matplotlib.axes._subplots.AxesSubplot at 0x257249ce080>"
      ]
     },
     "execution_count": 97,
     "metadata": {},
     "output_type": "execute_result"
    },
    {
     "data": {
      "image/png": "[encoded data removed]",
      "text/plain": [
       "<Figure size 432x288 with 1 Axes>"
      ]
     },
     "metadata": {},
     "output_type": "display_data"
    }
   ],
   "source": [
    "sns.boxplot(x='cholesterol', y='sex', data=df_clean)"
   ]
  },
  {
   "cell_type": "code",
   "execution_count": 107,
   "metadata": {},
   "outputs": [
    {
     "data": {
      "text/html": [
       "<div>\n",
       "<style scoped>\n",
       "    .dataframe tbody tr th:only-of-type {\n",
       "        vertical-align: middle;\n",
       "    }\n",
       "\n",
       "    .dataframe tbody tr th {\n",
       "        vertical-align: top;\n",
       "    }\n",
       "\n",
       "    .dataframe thead tr th {\n",
       "        text-align: left;\n",
       "    }\n",
       "\n",
       "    .dataframe thead tr:last-of-type th {\n",
       "        text-align: right;\n",
       "    }\n",
       "</style>\n",
       "<table border=\"1\" class=\"dataframe\">\n",
       "  <thead>\n",
       "    <tr>\n",
       "      <th></th>\n",
       "      <th colspan=\"8\" halign=\"left\">age</th>\n",
       "      <th colspan=\"2\" halign=\"left\">rest_bp</th>\n",
       "      <th>...</th>\n",
       "      <th colspan=\"2\" halign=\"left\">max_heart_rate</th>\n",
       "      <th colspan=\"8\" halign=\"left\">st_depression</th>\n",
       "    </tr>\n",
       "    <tr>\n",
       "      <th></th>\n",
       "      <th>count</th>\n",
       "      <th>mean</th>\n",
       "      <th>std</th>\n",
       "      <th>min</th>\n",
       "      <th>25%</th>\n",
       "      <th>50%</th>\n",
       "      <th>75%</th>\n",
       "      <th>max</th>\n",
       "      <th>count</th>\n",
       "      <th>mean</th>\n",
       "      <th>...</th>\n",
       "      <th>75%</th>\n",
       "      <th>max</th>\n",
       "      <th>count</th>\n",
       "      <th>mean</th>\n",
       "      <th>std</th>\n",
       "      <th>min</th>\n",
       "      <th>25%</th>\n",
       "      <th>50%</th>\n",
       "      <th>75%</th>\n",
       "      <th>max</th>\n",
       "    </tr>\n",
       "    <tr>\n",
       "      <th>diagnosis</th>\n",
       "      <th></th>\n",
       "      <th></th>\n",
       "      <th></th>\n",
       "      <th></th>\n",
       "      <th></th>\n",
       "      <th></th>\n",
       "      <th></th>\n",
       "      <th></th>\n",
       "      <th></th>\n",
       "      <th></th>\n",
       "      <th></th>\n",
       "      <th></th>\n",
       "      <th></th>\n",
       "      <th></th>\n",
       "      <th></th>\n",
       "      <th></th>\n",
       "      <th></th>\n",
       "      <th></th>\n",
       "      <th></th>\n",
       "      <th></th>\n",
       "      <th></th>\n",
       "    </tr>\n",
       "  </thead>\n",
       "  <tbody>\n",
       "    <tr>\n",
       "      <th>0</th>\n",
       "      <td>357.0</td>\n",
       "      <td>50.302521</td>\n",
       "      <td>9.417789</td>\n",
       "      <td>28.0</td>\n",
       "      <td>43.00</td>\n",
       "      <td>51.0</td>\n",
       "      <td>57.00</td>\n",
       "      <td>76.0</td>\n",
       "      <td>357.0</td>\n",
       "      <td>129.871148</td>\n",
       "      <td>...</td>\n",
       "      <td>168.0</td>\n",
       "      <td>202.0</td>\n",
       "      <td>357.0</td>\n",
       "      <td>0.425210</td>\n",
       "      <td>0.712199</td>\n",
       "      <td>-0.5</td>\n",
       "      <td>0.00</td>\n",
       "      <td>0.0</td>\n",
       "      <td>0.80</td>\n",
       "      <td>4.2</td>\n",
       "    </tr>\n",
       "    <tr>\n",
       "      <th>1</th>\n",
       "      <td>205.0</td>\n",
       "      <td>52.946341</td>\n",
       "      <td>8.577333</td>\n",
       "      <td>31.0</td>\n",
       "      <td>47.00</td>\n",
       "      <td>54.0</td>\n",
       "      <td>59.00</td>\n",
       "      <td>75.0</td>\n",
       "      <td>205.0</td>\n",
       "      <td>134.502439</td>\n",
       "      <td>...</td>\n",
       "      <td>150.0</td>\n",
       "      <td>195.0</td>\n",
       "      <td>205.0</td>\n",
       "      <td>1.088293</td>\n",
       "      <td>1.021369</td>\n",
       "      <td>0.0</td>\n",
       "      <td>0.00</td>\n",
       "      <td>1.0</td>\n",
       "      <td>2.00</td>\n",
       "      <td>5.0</td>\n",
       "    </tr>\n",
       "    <tr>\n",
       "      <th>2</th>\n",
       "      <td>79.0</td>\n",
       "      <td>58.430380</td>\n",
       "      <td>7.041422</td>\n",
       "      <td>42.0</td>\n",
       "      <td>55.00</td>\n",
       "      <td>59.0</td>\n",
       "      <td>63.00</td>\n",
       "      <td>74.0</td>\n",
       "      <td>79.0</td>\n",
       "      <td>135.392405</td>\n",
       "      <td>...</td>\n",
       "      <td>144.0</td>\n",
       "      <td>180.0</td>\n",
       "      <td>79.0</td>\n",
       "      <td>1.394937</td>\n",
       "      <td>1.204787</td>\n",
       "      <td>-1.0</td>\n",
       "      <td>0.00</td>\n",
       "      <td>1.4</td>\n",
       "      <td>2.10</td>\n",
       "      <td>4.0</td>\n",
       "    </tr>\n",
       "    <tr>\n",
       "      <th>3</th>\n",
       "      <td>78.0</td>\n",
       "      <td>59.179487</td>\n",
       "      <td>7.870285</td>\n",
       "      <td>39.0</td>\n",
       "      <td>54.00</td>\n",
       "      <td>60.0</td>\n",
       "      <td>64.00</td>\n",
       "      <td>77.0</td>\n",
       "      <td>78.0</td>\n",
       "      <td>136.102564</td>\n",
       "      <td>...</td>\n",
       "      <td>140.0</td>\n",
       "      <td>173.0</td>\n",
       "      <td>78.0</td>\n",
       "      <td>1.598718</td>\n",
       "      <td>1.352006</td>\n",
       "      <td>0.0</td>\n",
       "      <td>0.50</td>\n",
       "      <td>1.5</td>\n",
       "      <td>2.15</td>\n",
       "      <td>6.2</td>\n",
       "    </tr>\n",
       "    <tr>\n",
       "      <th>4</th>\n",
       "      <td>22.0</td>\n",
       "      <td>59.227273</td>\n",
       "      <td>8.286143</td>\n",
       "      <td>38.0</td>\n",
       "      <td>56.25</td>\n",
       "      <td>60.5</td>\n",
       "      <td>63.75</td>\n",
       "      <td>77.0</td>\n",
       "      <td>22.0</td>\n",
       "      <td>142.227273</td>\n",
       "      <td>...</td>\n",
       "      <td>145.0</td>\n",
       "      <td>182.0</td>\n",
       "      <td>22.0</td>\n",
       "      <td>2.363636</td>\n",
       "      <td>1.283798</td>\n",
       "      <td>0.0</td>\n",
       "      <td>1.25</td>\n",
       "      <td>2.5</td>\n",
       "      <td>3.45</td>\n",
       "      <td>4.4</td>\n",
       "    </tr>\n",
       "  </tbody>\n",
       "</table>\n",
       "<p>5 rows × 40 columns</p>\n",
       "</div>"
      ],
      "text/plain": [
       "             age                                                      rest_bp  \\\n",
       "           count       mean       std   min    25%   50%    75%   max   count   \n",
       "diagnosis                                                                       \n",
       "0          357.0  50.302521  9.417789  28.0  43.00  51.0  57.00  76.0   357.0   \n",
       "1          205.0  52.946341  8.577333  31.0  47.00  54.0  59.00  75.0   205.0   \n",
       "2           79.0  58.430380  7.041422  42.0  55.00  59.0  63.00  74.0    79.0   \n",
       "3           78.0  59.179487  7.870285  39.0  54.00  60.0  64.00  77.0    78.0   \n",
       "4           22.0  59.227273  8.286143  38.0  56.25  60.5  63.75  77.0    22.0   \n",
       "\n",
       "                       ... max_heart_rate        st_depression            \\\n",
       "                 mean  ...            75%    max         count      mean   \n",
       "diagnosis              ...                                                 \n",
       "0          129.871148  ...          168.0  202.0         357.0  0.425210   \n",
       "1          134.502439  ...          150.0  195.0         205.0  1.088293   \n",
       "2          135.392405  ...          144.0  180.0          79.0  1.394937   \n",
       "3          136.102564  ...          140.0  173.0          78.0  1.598718   \n",
       "4          142.227273  ...          145.0  182.0          22.0  2.363636   \n",
       "\n",
       "                                                \n",
       "                std  min   25%  50%   75%  max  \n",
       "diagnosis                                       \n",
       "0          0.712199 -0.5  0.00  0.0  0.80  4.2  \n",
       "1          1.021369  0.0  0.00  1.0  2.00  5.0  \n",
       "2          1.204787 -1.0  0.00  1.4  2.10  4.0  \n",
       "3          1.352006  0.0  0.50  1.5  2.15  6.2  \n",
       "4          1.283798  0.0  1.25  2.5  3.45  4.4  \n",
       "\n",
       "[5 rows x 40 columns]"
      ]
     },
     "execution_count": 107,
     "metadata": {},
     "output_type": "execute_result"
    }
   ],
   "source": [
    "df_clean.groupby('diagnosis').describe()"
   ]
  },
  {
   "cell_type": "code",
   "execution_count": 100,
   "metadata": {},
   "outputs": [],
   "source": [
    "df_copy = df_clean.copy()"
   ]
  },
  {
   "cell_type": "markdown",
   "metadata": {},
   "source": [
    "# Inferential Stats\n",
    "\n",
    "**Tests for independence:**\n",
    "- ANOVA: DV: continuous, IV: categorical\n",
    "- Chi^2: DV: Categorical IV: either\n",
    "- Correlations: DV & IV: continuous"
   ]
  },
  {
   "cell_type": "code",
   "execution_count": 108,
   "metadata": {},
   "outputs": [
    {
     "name": "stdout",
     "output_type": "stream",
     "text": [
      "                            OLS Regression Results                            \n",
      "==============================================================================\n",
      "Dep. Variable:                    age   R-squared:                       0.134\n",
      "Model:                            OLS   Adj. R-squared:                  0.129\n",
      "Method:                 Least Squares   F-statistic:                     28.42\n",
      "Date:                Sun, 03 May 2020   Prob (F-statistic):           5.56e-22\n",
      "Time:                        16:08:28   Log-Likelihood:                -2658.2\n",
      "No. Observations:                 741   AIC:                             5326.\n",
      "Df Residuals:                     736   BIC:                             5350.\n",
      "Df Model:                           4                                         \n",
      "Covariance Type:            nonrobust                                         \n",
      "=====================================================================================\n",
      "                        coef    std err          t      P>|t|      [0.025      0.975]\n",
      "-------------------------------------------------------------------------------------\n",
      "Intercept            50.3025      0.464    108.322      0.000      49.391      51.214\n",
      "C(diagnosis)[T.1]     2.6438      0.769      3.438      0.001       1.134       4.153\n",
      "C(diagnosis)[T.2]     8.1279      1.091      7.450      0.000       5.986      10.270\n",
      "C(diagnosis)[T.3]     8.8770      1.097      8.095      0.000       6.724      11.030\n",
      "C(diagnosis)[T.4]     8.9248      1.927      4.630      0.000       5.141      12.709\n",
      "==============================================================================\n",
      "Omnibus:                        2.010   Durbin-Watson:                   1.209\n",
      "Prob(Omnibus):                  0.366   Jarque-Bera (JB):                1.920\n",
      "Skew:                          -0.060   Prob(JB):                        0.383\n",
      "Kurtosis:                       2.782   Cond. No.                         6.38\n",
      "==============================================================================\n",
      "\n",
      "Warnings:\n",
      "[1] Standard Errors assume that the covariance matrix of the errors is correctly specified.\n"
     ]
    }
   ],
   "source": [
    "test1 = smf.ols(formula='age ~ C(diagnosis)', data=df_copy).fit()\n",
    "print(test1.summary())"
   ]
  },
  {
   "cell_type": "code",
   "execution_count": 110,
   "metadata": {},
   "outputs": [
    {
     "name": "stdout",
     "output_type": "stream",
     "text": [
      "diagnosis\n",
      "0    50.302521\n",
      "1    52.946341\n",
      "2    58.430380\n",
      "3    59.179487\n",
      "4    59.227273\n",
      "Name: age, dtype: float64\n"
     ]
    }
   ],
   "source": [
    "grouped1_mean = df_copy.groupby('diagnosis').mean()['age']\n",
    "print(grouped1_mean)"
   ]
  },
  {
   "cell_type": "code",
   "execution_count": 111,
   "metadata": {},
   "outputs": [
    {
     "name": "stdout",
     "output_type": "stream",
     "text": [
      "diagnosis\n",
      "0    9.417789\n",
      "1    8.577333\n",
      "2    7.041422\n",
      "3    7.870285\n",
      "4    8.286143\n",
      "Name: age, dtype: float64\n"
     ]
    }
   ],
   "source": [
    "grouped1_std = df_copy.groupby('diagnosis').std()['age']\n",
    "print(grouped1_std)"
   ]
  },
  {
   "cell_type": "code",
   "execution_count": 112,
   "metadata": {},
   "outputs": [
    {
     "name": "stdout",
     "output_type": "stream",
     "text": [
      "Multiple Comparison of Means - Tukey HSD, FWER=0.05 \n",
      "====================================================\n",
      "group1 group2 meandiff p-adj   lower   upper  reject\n",
      "----------------------------------------------------\n",
      "     0      1   2.6438 0.0056  0.5412  4.7464   True\n",
      "     0      2   8.1279  0.001  5.1446 11.1111   True\n",
      "     0      3    8.877  0.001  5.8781 11.8758   True\n",
      "     0      4   8.9248  0.001   3.654 14.1955   True\n",
      "     1      2    5.484  0.001  2.3067  8.6614   True\n",
      "     1      3   6.2331  0.001  3.0411  9.4252   True\n",
      "     1      4   6.2809 0.0128   0.898 11.6639   True\n",
      "     2      3   0.7491    0.9 -3.0808   4.579  False\n",
      "     2      4   0.7969    0.9 -4.9872  6.5809  False\n",
      "     3      4   0.0478    0.9 -5.7443  5.8399  False\n",
      "----------------------------------------------------\n"
     ]
    }
   ],
   "source": [
    "tuckey1 = multi.MultiComparison(df_copy['age'], df_copy['diagnosis'])\n",
    "res1 = tuckey1.tukeyhsd()\n",
    "print(res1.summary())"
   ]
  },
  {
   "cell_type": "code",
   "execution_count": 113,
   "metadata": {},
   "outputs": [
    {
     "data": {
      "text/html": [
       "<div>\n",
       "<style scoped>\n",
       "    .dataframe tbody tr th:only-of-type {\n",
       "        vertical-align: middle;\n",
       "    }\n",
       "\n",
       "    .dataframe tbody tr th {\n",
       "        vertical-align: top;\n",
       "    }\n",
       "\n",
       "    .dataframe thead th {\n",
       "        text-align: right;\n",
       "    }\n",
       "</style>\n",
       "<table border=\"1\" class=\"dataframe\">\n",
       "  <thead>\n",
       "    <tr style=\"text-align: right;\">\n",
       "      <th></th>\n",
       "      <th>age</th>\n",
       "      <th>sex</th>\n",
       "      <th>chest_pain</th>\n",
       "      <th>rest_bp</th>\n",
       "      <th>cholesterol</th>\n",
       "      <th>fasting_bs</th>\n",
       "      <th>rest_ecg</th>\n",
       "      <th>max_heart_rate</th>\n",
       "      <th>exercise_angina</th>\n",
       "      <th>st_depression</th>\n",
       "      <th>diagnosis</th>\n",
       "      <th>diagnostic_binary</th>\n",
       "    </tr>\n",
       "  </thead>\n",
       "  <tbody>\n",
       "    <tr>\n",
       "      <th>0</th>\n",
       "      <td>63.0</td>\n",
       "      <td>1.0</td>\n",
       "      <td>1.0</td>\n",
       "      <td>145.0</td>\n",
       "      <td>233.0</td>\n",
       "      <td>1.0</td>\n",
       "      <td>2.0</td>\n",
       "      <td>150.0</td>\n",
       "      <td>0.0</td>\n",
       "      <td>2.3</td>\n",
       "      <td>0</td>\n",
       "      <td>0</td>\n",
       "    </tr>\n",
       "    <tr>\n",
       "      <th>1</th>\n",
       "      <td>67.0</td>\n",
       "      <td>1.0</td>\n",
       "      <td>4.0</td>\n",
       "      <td>160.0</td>\n",
       "      <td>286.0</td>\n",
       "      <td>0.0</td>\n",
       "      <td>2.0</td>\n",
       "      <td>108.0</td>\n",
       "      <td>1.0</td>\n",
       "      <td>1.5</td>\n",
       "      <td>2</td>\n",
       "      <td>1</td>\n",
       "    </tr>\n",
       "    <tr>\n",
       "      <th>2</th>\n",
       "      <td>67.0</td>\n",
       "      <td>1.0</td>\n",
       "      <td>4.0</td>\n",
       "      <td>120.0</td>\n",
       "      <td>229.0</td>\n",
       "      <td>0.0</td>\n",
       "      <td>2.0</td>\n",
       "      <td>129.0</td>\n",
       "      <td>1.0</td>\n",
       "      <td>2.6</td>\n",
       "      <td>1</td>\n",
       "      <td>1</td>\n",
       "    </tr>\n",
       "    <tr>\n",
       "      <th>3</th>\n",
       "      <td>37.0</td>\n",
       "      <td>1.0</td>\n",
       "      <td>3.0</td>\n",
       "      <td>130.0</td>\n",
       "      <td>250.0</td>\n",
       "      <td>0.0</td>\n",
       "      <td>0.0</td>\n",
       "      <td>187.0</td>\n",
       "      <td>0.0</td>\n",
       "      <td>3.5</td>\n",
       "      <td>0</td>\n",
       "      <td>0</td>\n",
       "    </tr>\n",
       "    <tr>\n",
       "      <th>4</th>\n",
       "      <td>41.0</td>\n",
       "      <td>0.0</td>\n",
       "      <td>2.0</td>\n",
       "      <td>130.0</td>\n",
       "      <td>204.0</td>\n",
       "      <td>0.0</td>\n",
       "      <td>2.0</td>\n",
       "      <td>172.0</td>\n",
       "      <td>0.0</td>\n",
       "      <td>1.4</td>\n",
       "      <td>0</td>\n",
       "      <td>0</td>\n",
       "    </tr>\n",
       "  </tbody>\n",
       "</table>\n",
       "</div>"
      ],
      "text/plain": [
       "    age  sex chest_pain  rest_bp  cholesterol fasting_bs rest_ecg  \\\n",
       "0  63.0  1.0        1.0    145.0        233.0        1.0      2.0   \n",
       "1  67.0  1.0        4.0    160.0        286.0        0.0      2.0   \n",
       "2  67.0  1.0        4.0    120.0        229.0        0.0      2.0   \n",
       "3  37.0  1.0        3.0    130.0        250.0        0.0      0.0   \n",
       "4  41.0  0.0        2.0    130.0        204.0        0.0      2.0   \n",
       "\n",
       "   max_heart_rate exercise_angina  st_depression diagnosis  diagnostic_binary  \n",
       "0           150.0             0.0            2.3         0                  0  \n",
       "1           108.0             1.0            1.5         2                  1  \n",
       "2           129.0             1.0            2.6         1                  1  \n",
       "3           187.0             0.0            3.5         0                  0  \n",
       "4           172.0             0.0            1.4         0                  0  "
      ]
     },
     "execution_count": 113,
     "metadata": {},
     "output_type": "execute_result"
    }
   ],
   "source": [
    "## does chest pain predict diagnosis?\n",
    "## first we need to transform some features\n",
    "\n",
    "## Diag vs non\n",
    "diag_dict = {0:0, 1:1, 2:1, 3:1, 4:1}\n",
    "df_copy['diagnostic_binary'] = df_copy['diagnosis'].map(diag_dict)\n",
    "df_copy.head()\n"
   ]
  },
  {
   "cell_type": "code",
   "execution_count": 117,
   "metadata": {},
   "outputs": [
    {
     "name": "stdout",
     "output_type": "stream",
     "text": [
      "chest_pain         1.0  2.0  3.0  4.0\n",
      "diagnostic_binary                    \n",
      "0                   23  128  112   94\n",
      "1                   15   22   49  298\n"
     ]
    }
   ],
   "source": [
    "# create a fequency table by binary diagnosis\n",
    "ct1 = pd.crosstab(df_copy['diagnostic_binary'], df_copy['chest_pain'])\n",
    "print(ct1)"
   ]
  },
  {
   "cell_type": "code",
   "execution_count": 118,
   "metadata": {},
   "outputs": [
    {
     "name": "stdout",
     "output_type": "stream",
     "text": [
      "chest_pain              1.0       2.0       3.0       4.0\n",
      "diagnostic_binary                                        \n",
      "0                  0.605263  0.853333  0.695652  0.239796\n",
      "1                  0.394737  0.146667  0.304348  0.760204\n"
     ]
    }
   ],
   "source": [
    "# and in percent\n",
    "colsum = ct1.sum(axis=0)\n",
    "colpct = ct1/colsum\n",
    "print(colpct)"
   ]
  },
  {
   "cell_type": "code",
   "execution_count": 120,
   "metadata": {},
   "outputs": [
    {
     "name": "stdout",
     "output_type": "stream",
     "text": [
      "(206.69693667917477, 1.5066891002705367e-44, 3, array([[ 18.30769231,  72.26720648,  77.56680162, 188.8582996 ],\n",
      "       [ 19.69230769,  77.73279352,  83.43319838, 203.1417004 ]]))\n"
     ]
    }
   ],
   "source": [
    "## now Chi^2 test\n",
    "\n",
    "cs1 = scipy.stats.chi2_contingency(ct1)\n",
    "print(cs1)"
   ]
  },
  {
   "cell_type": "code",
   "execution_count": 122,
   "metadata": {},
   "outputs": [
    {
     "name": "stdout",
     "output_type": "stream",
     "text": [
      "sex                0.0  1.0\n",
      "diagnostic_binary          \n",
      "0                  131  226\n",
      "1                   43  341\n"
     ]
    }
   ],
   "source": [
    "## diag by sex\n",
    "## contingency table\n",
    "\n",
    "ct2 = pd.crosstab(df_copy['diagnostic_binary'], df_copy['sex'])\n",
    "print(ct2)"
   ]
  },
  {
   "cell_type": "code",
   "execution_count": 123,
   "metadata": {},
   "outputs": [
    {
     "name": "stdout",
     "output_type": "stream",
     "text": [
      "(65.52382346167634, 5.741569147761909e-16, 1, array([[ 83.82995951, 273.17004049],\n",
      "       [ 90.17004049, 293.82995951]]))\n"
     ]
    }
   ],
   "source": [
    "cs2 = scipy.stats.chi2_contingency(ct2)\n",
    "print(cs2)"
   ]
  },
  {
   "cell_type": "code",
   "execution_count": 130,
   "metadata": {},
   "outputs": [],
   "source": [
    "## let's look for lurking variables (sex) in explaining chestpain and diag\n",
    "\n",
    "df_copy_men = df_copy[df_copy['sex'] == 0]\n",
    "df_copy_women = df_copy[df_copy['sex'] == 1]"
   ]
  },
  {
   "cell_type": "code",
   "execution_count": 133,
   "metadata": {},
   "outputs": [],
   "source": [
    "ct_m = pd.crosstab(df_copy_men['diagnostic_binary'], df_copy_men['chest_pain'])\n",
    "ct_w = pd.crosstab(df_copy_women['diagnostic_binary'], df_copy_women['chest_pain'])"
   ]
  },
  {
   "cell_type": "code",
   "execution_count": 134,
   "metadata": {},
   "outputs": [
    {
     "name": "stdout",
     "output_type": "stream",
     "text": [
      "(39.896349270579876, 1.1207983387044401e-08, 3, array([[ 6.77586207, 38.39655172, 37.64367816, 48.18390805],\n",
      "       [ 2.22413793, 12.60344828, 12.35632184, 15.81609195]]))\n",
      "(153.13334878752136, 5.556477341199484e-33, 3, array([[ 11.55908289,  39.46031746,  44.24338624, 130.7372134 ],\n",
      "       [ 17.44091711,  59.53968254,  66.75661376, 197.2627866 ]]))\n"
     ]
    }
   ],
   "source": [
    "cs_m = scipy.stats.chi2_contingency(ct_m)\n",
    "cs_w = scipy.stats.chi2_contingency(ct_w)\n",
    "\n",
    "print(cs_m)\n",
    "print(cs_w)\n",
    "\n",
    "## sex is not a moderator"
   ]
  },
  {
   "cell_type": "code",
   "execution_count": 136,
   "metadata": {},
   "outputs": [
    {
     "data": {
      "text/plain": [
       "chest_pain  diagnosis\n",
       "1.0         0             14\n",
       "            1              9\n",
       "            2              3\n",
       "            3              2\n",
       "            4              1\n",
       "2.0         0             81\n",
       "            1             14\n",
       "            2              2\n",
       "            3              2\n",
       "3.0         0             68\n",
       "            1             22\n",
       "            3             11\n",
       "            2              8\n",
       "            4              2\n",
       "4.0         1            134\n",
       "            0             63\n",
       "            2             59\n",
       "            3             55\n",
       "            4             17\n",
       "Name: diagnosis, dtype: int64"
      ]
     },
     "execution_count": 136,
     "metadata": {},
     "output_type": "execute_result"
    }
   ],
   "source": [
    "df_copy_women.groupby('chest_pain')['diagnosis'].value_counts()"
   ]
  },
  {
   "cell_type": "code",
   "execution_count": 146,
   "metadata": {},
   "outputs": [
    {
     "data": {
      "text/plain": [
       "(0.09596603232408779, 0.013504445343445172)"
      ]
     },
     "execution_count": 146,
     "metadata": {},
     "output_type": "execute_result"
    }
   ],
   "source": [
    "## let's test the correlation between Age and Cholesterol\n",
    "scipy.stats.pearsonr(df_copy['age'], df_copy['cholesterol'])\n",
    "\n",
    "## what if we remove those suspicious 0 values for Cholesterol?\n",
    "scipy.stats.pearsonr(df_copy[df_copy['cholesterol'] > 0]['age'], df_copy[df_copy['cholesterol'] > 0]['cholesterol'])"
   ]
  },
  {
   "cell_type": "markdown",
   "metadata": {},
   "source": [
    "# Linear and Logistic Regressions"
   ]
  },
  {
   "cell_type": "code",
   "execution_count": 147,
   "metadata": {},
   "outputs": [],
   "source": [
    "## recode chestpain to include a zero\n",
    "cp_recode = {1:0, 2:1, 3:2, 4:3}\n",
    "df_copy['chest_pain'] = df_copy['chest_pain'].map(cp_recode)\n"
   ]
  },
  {
   "cell_type": "code",
   "execution_count": 162,
   "metadata": {},
   "outputs": [
    {
     "name": "stdout",
     "output_type": "stream",
     "text": [
      "741 741\n"
     ]
    }
   ],
   "source": [
    "## Let's mean center our continuous variables for interpretability\n",
    "\n",
    "#df_copy['age_c rest_bp_c chol_c MHR_c st_depress_c'.split()] = df_copy['age rest_bp cholesterol max_heart_rate st_depression'.split()].apply(\n",
    "#lambda x: x - x.mean())"
   ]
  },
  {
   "cell_type": "code",
   "execution_count": 163,
   "metadata": {},
   "outputs": [
    {
     "name": "stdout",
     "output_type": "stream",
     "text": [
      "                            OLS Regression Results                            \n",
      "==============================================================================\n",
      "Dep. Variable:                  age_c   R-squared:                       0.001\n",
      "Model:                            OLS   Adj. R-squared:                 -0.000\n",
      "Method:                 Least Squares   F-statistic:                    0.8054\n",
      "Date:                Sun, 03 May 2020   Prob (F-statistic):              0.370\n",
      "Time:                        17:12:45   Log-Likelihood:                -2711.1\n",
      "No. Observations:                 741   AIC:                             5426.\n",
      "Df Residuals:                     739   BIC:                             5435.\n",
      "Df Model:                           1                                         \n",
      "Covariance Type:            nonrobust                                         \n",
      "==============================================================================\n",
      "                 coef    std err          t      P>|t|      [0.025      0.975]\n",
      "------------------------------------------------------------------------------\n",
      "Intercept     -0.5596      0.713     -0.785      0.433      -1.959       0.840\n",
      "sex[T.1.0]     0.7314      0.815      0.897      0.370      -0.868       2.331\n",
      "==============================================================================\n",
      "Omnibus:                       11.248   Durbin-Watson:                   1.090\n",
      "Prob(Omnibus):                  0.004   Jarque-Bera (JB):                8.518\n",
      "Skew:                          -0.160   Prob(JB):                       0.0141\n",
      "Kurtosis:                       2.583   Cond. No.                         3.91\n",
      "==============================================================================\n",
      "\n",
      "Warnings:\n",
      "[1] Standard Errors assume that the covariance matrix of the errors is correctly specified.\n"
     ]
    }
   ],
   "source": [
    "model1 = smf.ols(formula = 'age_c ~ sex', data=df_copy).fit()\n",
    "print(model1.summary())"
   ]
  },
  {
   "cell_type": "code",
   "execution_count": 165,
   "metadata": {},
   "outputs": [
    {
     "name": "stdout",
     "output_type": "stream",
     "text": [
      "                            OLS Regression Results                            \n",
      "==============================================================================\n",
      "Dep. Variable:                  age_c   R-squared:                       0.005\n",
      "Model:                            OLS   Adj. R-squared:                  0.002\n",
      "Method:                 Least Squares   F-statistic:                     1.889\n",
      "Date:                Sun, 03 May 2020   Prob (F-statistic):              0.152\n",
      "Time:                        17:15:15   Log-Likelihood:                -2709.6\n",
      "No. Observations:                 741   AIC:                             5425.\n",
      "Df Residuals:                     738   BIC:                             5439.\n",
      "Df Model:                           2                                         \n",
      "Covariance Type:            nonrobust                                         \n",
      "==============================================================================\n",
      "                 coef    std err          t      P>|t|      [0.025      0.975]\n",
      "------------------------------------------------------------------------------\n",
      "Intercept     -0.3644      0.721     -0.506      0.613      -1.780       1.051\n",
      "sex[T.1.0]     0.4762      0.827      0.576      0.565      -1.148       2.100\n",
      "chol_c        -0.0065      0.004     -1.724      0.085      -0.014       0.001\n",
      "==============================================================================\n",
      "Omnibus:                       10.509   Durbin-Watson:                   1.111\n",
      "Prob(Omnibus):                  0.005   Jarque-Bera (JB):                8.122\n",
      "Skew:                          -0.158   Prob(JB):                       0.0172\n",
      "Kurtosis:                       2.597   Cond. No.                         288.\n",
      "==============================================================================\n",
      "\n",
      "Warnings:\n",
      "[1] Standard Errors assume that the covariance matrix of the errors is correctly specified.\n"
     ]
    }
   ],
   "source": [
    "## now let's add cholesterol\n",
    "\n",
    "model2 = smf.ols(formula = 'age_c ~ sex + chol_c', data=df_copy).fit()\n",
    "print(model2.summary())"
   ]
  },
  {
   "cell_type": "code",
   "execution_count": 175,
   "metadata": {},
   "outputs": [
    {
     "name": "stdout",
     "output_type": "stream",
     "text": [
      "                            OLS Regression Results                            \n",
      "==============================================================================\n",
      "Dep. Variable:                  age_c   R-squared:                       0.278\n",
      "Model:                            OLS   Adj. R-squared:                  0.266\n",
      "Method:                 Least Squares   F-statistic:                     21.58\n",
      "Date:                Sun, 03 May 2020   Prob (F-statistic):           1.25e-43\n",
      "Time:                        17:21:01   Log-Likelihood:                -2590.6\n",
      "No. Observations:                 741   AIC:                             5209.\n",
      "Df Residuals:                     727   BIC:                             5274.\n",
      "Df Model:                          13                                         \n",
      "Covariance Type:            nonrobust                                         \n",
      "==========================================================================================\n",
      "                             coef    std err          t      P>|t|      [0.025      0.975]\n",
      "------------------------------------------------------------------------------------------\n",
      "Intercept                 -0.9208      1.486     -0.619      0.536      -3.839       1.997\n",
      "sex[T.1.0]                -1.5406      0.744     -2.071      0.039      -3.001      -0.080\n",
      "C(chest_pain)[T.1]        -1.5128      1.507     -1.004      0.316      -4.471       1.446\n",
      "C(chest_pain)[T.2]         0.5994      1.477      0.406      0.685      -2.300       3.499\n",
      "C(chest_pain)[T.3]        -0.5931      1.446     -0.410      0.682      -3.432       2.246\n",
      "fasting_bs[T.1.0]          3.9777      0.853      4.664      0.000       2.303       5.652\n",
      "C(rest_ecg)[T.1.0]         1.8683      0.851      2.196      0.028       0.198       3.539\n",
      "C(rest_ecg)[T.2.0]         3.9081      0.742      5.268      0.000       2.452       5.364\n",
      "exercise_angina[T.1.0]     0.0511      0.769      0.066      0.947      -1.458       1.561\n",
      "rest_bp_c                  0.0754      0.017      4.508      0.000       0.043       0.108\n",
      "chol_c                    -0.0042      0.003     -1.251      0.211      -0.011       0.002\n",
      "MHR_c                     -0.1093      0.013     -8.152      0.000      -0.136      -0.083\n",
      "st_depress_c               0.9892      0.319      3.097      0.002       0.362       1.616\n",
      "diagnostic_binary          1.4426      0.796      1.813      0.070      -0.119       3.005\n",
      "==============================================================================\n",
      "Omnibus:                        5.205   Durbin-Watson:                   1.374\n",
      "Prob(Omnibus):                  0.074   Jarque-Bera (JB):                3.958\n",
      "Skew:                           0.047   Prob(JB):                        0.138\n",
      "Kurtosis:                       2.654   Cond. No.                         870.\n",
      "==============================================================================\n",
      "\n",
      "Warnings:\n",
      "[1] Standard Errors assume that the covariance matrix of the errors is correctly specified.\n"
     ]
    }
   ],
   "source": [
    "## and now even more stuff\n",
    "df_copy.head()\n",
    "model3 = smf.ols(formula = 'age_c ~ sex + C(chest_pain) + (rest_bp_c) + chol_c + fasting_bs + C(rest_ecg) + \\\n",
    "                            MHR_c + exercise_angina + st_depress_c + diagnostic_binary', \n",
    "                 data=df_copy).fit()\n",
    "print(model3.summary())"
   ]
  },
  {
   "cell_type": "code",
   "execution_count": 176,
   "metadata": {},
   "outputs": [
    {
     "data": {
      "image/png": "[encoded data removed]",
      "text/plain": [
       "<Figure size 432x288 with 1 Axes>"
      ]
     },
     "metadata": {},
     "output_type": "display_data"
    }
   ],
   "source": [
    "## Q-Q plots to see if the residules are normally distributed\n",
    "\n",
    "fig1 = sm.qqplot(model3.resid, line='r')"
   ]
  },
  {
   "cell_type": "code",
   "execution_count": 178,
   "metadata": {},
   "outputs": [
    {
     "data": {
      "text/plain": [
       "Text(0.5, 0, 'Observation Number')"
      ]
     },
     "execution_count": 178,
     "metadata": {},
     "output_type": "execute_result"
    },
    {
     "data": {
      "image/png": "[encoded data removed]",
      "text/plain": [
       "<Figure size 432x288 with 1 Axes>"
      ]
     },
     "metadata": {},
     "output_type": "display_data"
    }
   ],
   "source": [
    "## let's plot the residules\n",
    "## looks like the model doesn't really help explain the variability in the data\n",
    "\n",
    "\n",
    "stdres = pd.DataFrame(model3.resid_pearson)\n",
    "plt.plot(stdres, 'o', ls='None')\n",
    "l = plt.axhline(y=0, color='r')\n",
    "plt.ylabel('Standardized Residual')\n",
    "plt.xlabel('Observation Number')"
   ]
  },
  {
   "cell_type": "code",
   "execution_count": 181,
   "metadata": {},
   "outputs": [
    {
     "name": "stdout",
     "output_type": "stream",
     "text": [
      "Figure(432x288)\n",
      "age                        59\n",
      "sex                         1\n",
      "chest_pain                  3\n",
      "rest_bp                   135\n",
      "cholesterol               234\n",
      "fasting_bs                  0\n",
      "rest_ecg                    0\n",
      "max_heart_rate            161\n",
      "exercise_angina             0\n",
      "st_depression             0.5\n",
      "diagnosis                   0\n",
      "diagnostic_binary           0\n",
      "age_c                 5.90013\n",
      "rest_bp_c             2.23617\n",
      "chol_c                13.7625\n",
      "MHR_c                 22.2591\n",
      "st_depress_c        -0.393117\n",
      "Name: 33, dtype: object\n"
     ]
    },
    {
     "data": {
      "image/png": "[encoded data removed]",
      "text/plain": [
       "<Figure size 432x288 with 1 Axes>"
      ]
     },
     "metadata": {},
     "output_type": "display_data"
    }
   ],
   "source": [
    "## a Leverage plot helps identify particularly impactful datapoints\n",
    "\n",
    "fig4 = sm.graphics.influence_plot(model3, size=8)\n",
    "print(fig4)\n",
    "## What's up with 33?\n",
    "print(df_copy.iloc[33])\n",
    "## maybe diagnosis == 0 and some off effects?\n"
   ]
  },
  {
   "cell_type": "code",
   "execution_count": 183,
   "metadata": {},
   "outputs": [
    {
     "name": "stdout",
     "output_type": "stream",
     "text": [
      "Optimization terminated successfully.\n",
      "         Current function value: 0.543711\n",
      "         Iterations 6\n",
      "                           Logit Regression Results                           \n",
      "==============================================================================\n",
      "Dep. Variable:      diagnostic_binary   No. Observations:                  741\n",
      "Model:                          Logit   Df Residuals:                      737\n",
      "Method:                           MLE   Df Model:                            3\n",
      "Date:                Sun, 03 May 2020   Pseudo R-squ.:                  0.2148\n",
      "Time:                        17:33:02   Log-Likelihood:                -402.89\n",
      "converged:                       True   LL-Null:                       -513.13\n",
      "Covariance Type:            nonrobust   LLR p-value:                 1.581e-47\n",
      "======================================================================================\n",
      "                         coef    std err          z      P>|z|      [0.025      0.975]\n",
      "--------------------------------------------------------------------------------------\n",
      "Intercept             -0.4274      0.332     -1.288      0.198      -1.078       0.223\n",
      "C(chest_pain)[T.1]    -1.3335      0.404     -3.299      0.001      -2.126      -0.541\n",
      "C(chest_pain)[T.2]    -0.3992      0.373     -1.069      0.285      -1.131       0.333\n",
      "C(chest_pain)[T.3]     1.5812      0.352      4.488      0.000       0.891       2.272\n",
      "======================================================================================\n"
     ]
    }
   ],
   "source": [
    "## let's predict diagnosis from chestpain with Logistic regression\n",
    "\n",
    "lreg1 = smf.logit(formula='diagnostic_binary ~ C(chest_pain)', data=df_copy).fit()\n",
    "print(lreg1.summary())\n"
   ]
  },
  {
   "cell_type": "code",
   "execution_count": 187,
   "metadata": {},
   "outputs": [
    {
     "name": "stdout",
     "output_type": "stream",
     "text": [
      "Optimization terminated successfully.\n",
      "         Current function value: 0.421593\n",
      "         Iterations 6\n",
      "                           Logit Regression Results                           \n",
      "==============================================================================\n",
      "Dep. Variable:      diagnostic_binary   No. Observations:                  741\n",
      "Model:                          Logit   Df Residuals:                      727\n",
      "Method:                           MLE   Df Model:                           13\n",
      "Date:                Sun, 03 May 2020   Pseudo R-squ.:                  0.3912\n",
      "Time:                        17:36:39   Log-Likelihood:                -312.40\n",
      "converged:                       True   LL-Null:                       -513.13\n",
      "Covariance Type:            nonrobust   LLR p-value:                 1.100e-77\n",
      "==========================================================================================\n",
      "                             coef    std err          z      P>|z|      [0.025      0.975]\n",
      "------------------------------------------------------------------------------------------\n",
      "Intercept                 -1.9267      0.465     -4.139      0.000      -2.839      -1.014\n",
      "sex[T.1.0]                 1.3101      0.256      5.110      0.000       0.808       1.813\n",
      "C(chest_pain)[T.1]        -0.5553      0.478     -1.162      0.245      -1.492       0.381\n",
      "C(chest_pain)[T.2]        -0.1410      0.443     -0.318      0.750      -1.009       0.727\n",
      "C(chest_pain)[T.3]         1.3009      0.430      3.023      0.003       0.458       2.144\n",
      "fasting_bs[T.1.0]          0.5082      0.292      1.742      0.081      -0.063       1.080\n",
      "C(rest_ecg)[T.1.0]        -0.0877      0.302     -0.290      0.772      -0.680       0.505\n",
      "C(rest_ecg)[T.2.0]         0.2337      0.253      0.925      0.355      -0.261       0.729\n",
      "exercise_angina[T.1.0]     1.0054      0.231      4.353      0.000       0.553       1.458\n",
      "age_c                      0.0217      0.013      1.723      0.085      -0.003       0.046\n",
      "rest_bp_c                  0.0062      0.006      1.089      0.276      -0.005       0.017\n",
      "chol_c                    -0.0018      0.001     -1.576      0.115      -0.004       0.000\n",
      "MHR_c                     -0.0142      0.005     -3.119      0.002      -0.023      -0.005\n",
      "st_depress_c               0.6158      0.114      5.402      0.000       0.392       0.839\n",
      "==========================================================================================\n"
     ]
    }
   ],
   "source": [
    "## and now a Logit full model\n",
    "\n",
    "lreg2 = smf.logit(formula='diagnostic_binary ~ age_c + sex + C(chest_pain) + rest_bp_c + \\\n",
    "                  chol_c + fasting_bs + C(rest_ecg) + MHR_c + \\\n",
    "                  exercise_angina + st_depress_c', data = df_copy).fit()\n",
    "print(lreg2.summary())"
   ]
  },
  {
   "cell_type": "code",
   "execution_count": 192,
   "metadata": {},
   "outputs": [
    {
     "name": "stdout",
     "output_type": "stream",
     "text": [
      "Odds Ratios\n",
      "Intercept                 0.145625\n",
      "sex[T.1.0]                3.706415\n",
      "C(chest_pain)[T.3]        3.672428\n",
      "exercise_angina[T.1.0]    2.732984\n",
      "MHR_c                     0.985909\n",
      "st_depress_c              1.851057\n",
      "dtype: float64\n"
     ]
    }
   ],
   "source": [
    "## let's talk about the Odds Ratios of the coefficients\n",
    "\n",
    "print('Odds Ratios')\n",
    "#print(np.exp(lreg2.params))\n",
    "\n",
    "## and only significant predictors?\n",
    "print(np.exp(lreg2.params[lreg2.pvalues< 0.05]))\n",
    "\n"
   ]
  },
  {
   "cell_type": "code",
   "execution_count": 195,
   "metadata": {},
   "outputs": [
    {
     "name": "stdout",
     "output_type": "stream",
     "text": [
      "                        lower_CI  upper_CI  Odds_Ratio\n",
      "Intercept               0.058480  0.362629    0.145625\n",
      "sex[T.1.0]              2.242497  6.125988    3.706415\n",
      "C(chest_pain)[T.1]      0.224975  1.463965    0.573894\n",
      "C(chest_pain)[T.2]      0.364589  2.068857    0.868495\n",
      "C(chest_pain)[T.3]      1.580165  8.535010    3.672428\n",
      "fasting_bs[T.1.0]       0.938503  2.944433    1.662336\n",
      "C(rest_ecg)[T.1.0]      0.506524  1.656603    0.916029\n",
      "C(rest_ecg)[T.2.0]      0.769914  2.072760    1.263268\n",
      "exercise_angina[T.1.0]  1.737951  4.297705    2.732984\n",
      "age_c                   0.997020  1.047468    1.021933\n",
      "rest_bp_c               0.995035  1.017583    1.006246\n",
      "chol_c                  0.995907  1.000445    0.998173\n",
      "MHR_c                   0.977157  0.994740    0.985909\n",
      "st_depress_c            1.480481  2.314391    1.851057\n"
     ]
    }
   ],
   "source": [
    "## and with 95% confidence intervals?\n",
    "\n",
    "params = lreg2.params\n",
    "conf = lreg2.conf_int()\n",
    "conf['OR'] = params\n",
    "conf.columns = 'lower_CI upper_CI Odds_Ratio'.split()\n",
    "print(np.exp(conf))"
   ]
  },
  {
   "cell_type": "code",
   "execution_count": null,
   "metadata": {},
   "outputs": [],
   "source": []
  },
  {
   "cell_type": "markdown",
   "metadata": {},
   "source": [
    "# Machine Learning examples"
   ]
  },
  {
   "cell_type": "code",
   "execution_count": 199,
   "metadata": {},
   "outputs": [],
   "source": [
    "## first we need to recode our categorical variables through separate columns for each one\n",
    "\n",
    "df_sex = pd.get_dummies(df_copy['sex'], prefix='sex')\n",
    "df_chest_pain = pd.get_dummies(df_copy['chest_pain'], prefix = 'chest_pain')\n",
    "df_fasting_bs = pd.get_dummies(df_copy['fasting_bs'], prefix = 'fasting_bs')\n",
    "df_rest_ecg = pd.get_dummies(df_copy['rest_ecg'], prefix = 'rest_ecg')\n",
    "df_exercise_angina = pd.get_dummies(df_copy['exercise_angina'], prefix = 'exercise_angina')"
   ]
  },
  {
   "cell_type": "code",
   "execution_count": 202,
   "metadata": {},
   "outputs": [],
   "source": [
    "df_merg = pd.concat([df_copy, df_sex, df_chest_pain, df_fasting_bs, df_rest_ecg, df_exercise_angina], \n",
    "                    axis=1)"
   ]
  },
  {
   "cell_type": "code",
   "execution_count": 206,
   "metadata": {},
   "outputs": [
    {
     "data": {
      "text/plain": [
       "Index(['age', 'sex', 'chest_pain', 'rest_bp', 'cholesterol', 'fasting_bs',\n",
       "       'rest_ecg', 'max_heart_rate', 'exercise_angina', 'st_depression',\n",
       "       'diagnosis', 'diagnostic_binary', 'age_c', 'rest_bp_c', 'chol_c',\n",
       "       'MHR_c', 'st_depress_c', 'sex_0.0', 'sex_1.0', 'chest_pain_0',\n",
       "       'chest_pain_1', 'chest_pain_2', 'chest_pain_3', 'fasting_bs_0.0',\n",
       "       'fasting_bs_1.0', 'rest_ecg_0.0', 'rest_ecg_1.0', 'rest_ecg_2.0',\n",
       "       'exercise_angina_0.0', 'exercise_angina_1.0'],\n",
       "      dtype='object')"
      ]
     },
     "execution_count": 206,
     "metadata": {},
     "output_type": "execute_result"
    }
   ],
   "source": [
    "df_merg.columns\n",
    "\n"
   ]
  },
  {
   "cell_type": "code",
   "execution_count": 209,
   "metadata": {},
   "outputs": [],
   "source": [
    "df_dt = df_merg[['age', 'sex_0.0', 'sex_1.0', 'chest_pain_0', 'chest_pain_1', 'chest_pain_2', \\\n",
    "                       'chest_pain_3', 'rest_bp', 'cholesterol', 'fasting_bs_0.0', 'fasting_bs_1.0', \\\n",
    "                      'rest_ecg_1.0', 'rest_ecg_2.0', 'max_heart_rate', 'exercise_angina_0.0', 'exercise_angina_1.0',\\\n",
    "                       'st_depression', 'diagnostic_binary']]"
   ]
  },
  {
   "cell_type": "code",
   "execution_count": 210,
   "metadata": {},
   "outputs": [],
   "source": [
    "preds = df_dt.iloc[:, df_dt.columns != 'diagnostic_binary']"
   ]
  },
  {
   "cell_type": "code",
   "execution_count": 211,
   "metadata": {},
   "outputs": [
    {
     "data": {
      "text/html": [
       "<div>\n",
       "<style scoped>\n",
       "    .dataframe tbody tr th:only-of-type {\n",
       "        vertical-align: middle;\n",
       "    }\n",
       "\n",
       "    .dataframe tbody tr th {\n",
       "        vertical-align: top;\n",
       "    }\n",
       "\n",
       "    .dataframe thead th {\n",
       "        text-align: right;\n",
       "    }\n",
       "</style>\n",
       "<table border=\"1\" class=\"dataframe\">\n",
       "  <thead>\n",
       "    <tr style=\"text-align: right;\">\n",
       "      <th></th>\n",
       "      <th>age</th>\n",
       "      <th>sex_0.0</th>\n",
       "      <th>sex_1.0</th>\n",
       "      <th>chest_pain_0</th>\n",
       "      <th>chest_pain_1</th>\n",
       "      <th>chest_pain_2</th>\n",
       "      <th>chest_pain_3</th>\n",
       "      <th>rest_bp</th>\n",
       "      <th>cholesterol</th>\n",
       "      <th>fasting_bs_0.0</th>\n",
       "      <th>fasting_bs_1.0</th>\n",
       "      <th>rest_ecg_1.0</th>\n",
       "      <th>rest_ecg_2.0</th>\n",
       "      <th>max_heart_rate</th>\n",
       "      <th>exercise_angina_0.0</th>\n",
       "      <th>exercise_angina_1.0</th>\n",
       "      <th>st_depression</th>\n",
       "    </tr>\n",
       "  </thead>\n",
       "  <tbody>\n",
       "    <tr>\n",
       "      <th>0</th>\n",
       "      <td>63.0</td>\n",
       "      <td>0</td>\n",
       "      <td>1</td>\n",
       "      <td>1</td>\n",
       "      <td>0</td>\n",
       "      <td>0</td>\n",
       "      <td>0</td>\n",
       "      <td>145.0</td>\n",
       "      <td>233.0</td>\n",
       "      <td>0</td>\n",
       "      <td>1</td>\n",
       "      <td>0</td>\n",
       "      <td>1</td>\n",
       "      <td>150.0</td>\n",
       "      <td>1</td>\n",
       "      <td>0</td>\n",
       "      <td>2.3</td>\n",
       "    </tr>\n",
       "    <tr>\n",
       "      <th>1</th>\n",
       "      <td>67.0</td>\n",
       "      <td>0</td>\n",
       "      <td>1</td>\n",
       "      <td>0</td>\n",
       "      <td>0</td>\n",
       "      <td>0</td>\n",
       "      <td>1</td>\n",
       "      <td>160.0</td>\n",
       "      <td>286.0</td>\n",
       "      <td>1</td>\n",
       "      <td>0</td>\n",
       "      <td>0</td>\n",
       "      <td>1</td>\n",
       "      <td>108.0</td>\n",
       "      <td>0</td>\n",
       "      <td>1</td>\n",
       "      <td>1.5</td>\n",
       "    </tr>\n",
       "    <tr>\n",
       "      <th>2</th>\n",
       "      <td>67.0</td>\n",
       "      <td>0</td>\n",
       "      <td>1</td>\n",
       "      <td>0</td>\n",
       "      <td>0</td>\n",
       "      <td>0</td>\n",
       "      <td>1</td>\n",
       "      <td>120.0</td>\n",
       "      <td>229.0</td>\n",
       "      <td>1</td>\n",
       "      <td>0</td>\n",
       "      <td>0</td>\n",
       "      <td>1</td>\n",
       "      <td>129.0</td>\n",
       "      <td>0</td>\n",
       "      <td>1</td>\n",
       "      <td>2.6</td>\n",
       "    </tr>\n",
       "    <tr>\n",
       "      <th>3</th>\n",
       "      <td>37.0</td>\n",
       "      <td>0</td>\n",
       "      <td>1</td>\n",
       "      <td>0</td>\n",
       "      <td>0</td>\n",
       "      <td>1</td>\n",
       "      <td>0</td>\n",
       "      <td>130.0</td>\n",
       "      <td>250.0</td>\n",
       "      <td>1</td>\n",
       "      <td>0</td>\n",
       "      <td>0</td>\n",
       "      <td>0</td>\n",
       "      <td>187.0</td>\n",
       "      <td>1</td>\n",
       "      <td>0</td>\n",
       "      <td>3.5</td>\n",
       "    </tr>\n",
       "    <tr>\n",
       "      <th>4</th>\n",
       "      <td>41.0</td>\n",
       "      <td>1</td>\n",
       "      <td>0</td>\n",
       "      <td>0</td>\n",
       "      <td>1</td>\n",
       "      <td>0</td>\n",
       "      <td>0</td>\n",
       "      <td>130.0</td>\n",
       "      <td>204.0</td>\n",
       "      <td>1</td>\n",
       "      <td>0</td>\n",
       "      <td>0</td>\n",
       "      <td>1</td>\n",
       "      <td>172.0</td>\n",
       "      <td>1</td>\n",
       "      <td>0</td>\n",
       "      <td>1.4</td>\n",
       "    </tr>\n",
       "  </tbody>\n",
       "</table>\n",
       "</div>"
      ],
      "text/plain": [
       "    age  sex_0.0  sex_1.0  chest_pain_0  chest_pain_1  chest_pain_2  \\\n",
       "0  63.0        0        1             1             0             0   \n",
       "1  67.0        0        1             0             0             0   \n",
       "2  67.0        0        1             0             0             0   \n",
       "3  37.0        0        1             0             0             1   \n",
       "4  41.0        1        0             0             1             0   \n",
       "\n",
       "   chest_pain_3  rest_bp  cholesterol  fasting_bs_0.0  fasting_bs_1.0  \\\n",
       "0             0    145.0        233.0               0               1   \n",
       "1             1    160.0        286.0               1               0   \n",
       "2             1    120.0        229.0               1               0   \n",
       "3             0    130.0        250.0               1               0   \n",
       "4             0    130.0        204.0               1               0   \n",
       "\n",
       "   rest_ecg_1.0  rest_ecg_2.0  max_heart_rate  exercise_angina_0.0  \\\n",
       "0             0             1           150.0                    1   \n",
       "1             0             1           108.0                    0   \n",
       "2             0             1           129.0                    0   \n",
       "3             0             0           187.0                    1   \n",
       "4             0             1           172.0                    1   \n",
       "\n",
       "   exercise_angina_1.0  st_depression  \n",
       "0                    0            2.3  \n",
       "1                    1            1.5  \n",
       "2                    1            2.6  \n",
       "3                    0            3.5  \n",
       "4                    0            1.4  "
      ]
     },
     "execution_count": 211,
     "metadata": {},
     "output_type": "execute_result"
    }
   ],
   "source": [
    "preds.head()"
   ]
  },
  {
   "cell_type": "code",
   "execution_count": 213,
   "metadata": {},
   "outputs": [],
   "source": [
    "target = df_dt['diagnostic_binary']"
   ]
  },
  {
   "cell_type": "code",
   "execution_count": 214,
   "metadata": {},
   "outputs": [],
   "source": [
    "## make train | test datasets with train_test_split with 40% withheld\n",
    "\n",
    "pred_train, pred_test, tar_train, tar_test = train_test_split(preds, target, test_size=0.4)"
   ]
  },
  {
   "cell_type": "code",
   "execution_count": 215,
   "metadata": {},
   "outputs": [],
   "source": [
    "## create a Decision Tree classifier\n",
    "classifier = DecisionTreeClassifier()\n",
    "\n",
    "## train it\n",
    "classifier = classifier.fit(pred_train, tar_train)"
   ]
  },
  {
   "cell_type": "code",
   "execution_count": 216,
   "metadata": {},
   "outputs": [],
   "source": [
    "predictions = classifier.predict(pred_test)"
   ]
  },
  {
   "cell_type": "code",
   "execution_count": 217,
   "metadata": {},
   "outputs": [
    {
     "data": {
      "text/plain": [
       "array([[103,  50],\n",
       "       [ 39, 105]], dtype=int64)"
      ]
     },
     "execution_count": 217,
     "metadata": {},
     "output_type": "execute_result"
    }
   ],
   "source": [
    "sklearn.metrics.confusion_matrix(tar_test, predictions)"
   ]
  },
  {
   "cell_type": "code",
   "execution_count": 223,
   "metadata": {},
   "outputs": [
    {
     "name": "stdout",
     "output_type": "stream",
     "text": [
      "[0.04815955 0.         0.02644818 0.         0.         0.00604575\n",
      " 0.29362468 0.10728985 0.22380942 0.01391817 0.00151144 0.0294938\n",
      " 0.00816176 0.09706573 0.00604575 0.04646747 0.09195845]\n"
     ]
    },
    {
     "data": {
      "text/plain": [
       "Index(['chest_pain_3', 'rest_bp', 'cholesterol'], dtype='object')"
      ]
     },
     "execution_count": 223,
     "metadata": {},
     "output_type": "execute_result"
    }
   ],
   "source": [
    "## print out the classifier feature importance\n",
    "print(classifier.feature_importances_)\n",
    "preds.columns[6:9]"
   ]
  },
  {
   "cell_type": "code",
   "execution_count": 224,
   "metadata": {},
   "outputs": [
    {
     "data": {
      "text/plain": [
       "0.7003367003367004"
      ]
     },
     "execution_count": 224,
     "metadata": {},
     "output_type": "execute_result"
    }
   ],
   "source": [
    "sklearn.metrics.accuracy_score(tar_test, predictions)\n",
    "## meh."
   ]
  },
  {
   "cell_type": "code",
   "execution_count": 225,
   "metadata": {},
   "outputs": [],
   "source": [
    "classifier2 = RandomForestClassifier(n_estimators = 25)\n",
    "classifier2 = classifier2.fit(pred_train, tar_train)"
   ]
  },
  {
   "cell_type": "code",
   "execution_count": 226,
   "metadata": {},
   "outputs": [],
   "source": [
    "predictions2 = classifier2.predict(pred_test)"
   ]
  },
  {
   "cell_type": "code",
   "execution_count": 227,
   "metadata": {},
   "outputs": [
    {
     "data": {
      "text/plain": [
       "array([[117,  36],\n",
       "       [ 31, 113]], dtype=int64)"
      ]
     },
     "execution_count": 227,
     "metadata": {},
     "output_type": "execute_result"
    }
   ],
   "source": [
    "sklearn.metrics.confusion_matrix(tar_test, predictions2)"
   ]
  },
  {
   "cell_type": "code",
   "execution_count": 229,
   "metadata": {},
   "outputs": [
    {
     "name": "stdout",
     "output_type": "stream",
     "text": [
      "[0.09898262 0.02385101 0.03302334 0.01274836 0.02296066 0.01862389\n",
      " 0.14129432 0.08850399 0.12158881 0.01174301 0.01165562 0.02801664\n",
      " 0.01349725 0.14955157 0.03473585 0.08529199 0.10393108]\n"
     ]
    }
   ],
   "source": [
    "print(classifier2.feature_importances_)"
   ]
  },
  {
   "cell_type": "code",
   "execution_count": 230,
   "metadata": {},
   "outputs": [
    {
     "data": {
      "text/plain": [
       "0.7744107744107744"
      ]
     },
     "execution_count": 230,
     "metadata": {},
     "output_type": "execute_result"
    }
   ],
   "source": [
    "sklearn.metrics.accuracy_score(tar_test, predictions2)\n",
    "# a bit better"
   ]
  },
  {
   "cell_type": "code",
   "execution_count": 236,
   "metadata": {},
   "outputs": [],
   "source": [
    "from sklearn import svm\n",
    "\n",
    "classifier3 = svm.SVC()\n",
    "classifier3 = classifier3.fit(pred_train, tar_train)"
   ]
  },
  {
   "cell_type": "code",
   "execution_count": 232,
   "metadata": {},
   "outputs": [],
   "source": [
    "predictions3 = classifier3.predict(pred_test)"
   ]
  },
  {
   "cell_type": "code",
   "execution_count": 238,
   "metadata": {},
   "outputs": [
    {
     "data": {
      "text/plain": [
       "array([[102,  51],\n",
       "       [ 38, 106]], dtype=int64)"
      ]
     },
     "execution_count": 238,
     "metadata": {},
     "output_type": "execute_result"
    }
   ],
   "source": [
    "sklearn.metrics.confusion_matrix(tar_test, predictions3)"
   ]
  },
  {
   "cell_type": "code",
   "execution_count": 237,
   "metadata": {},
   "outputs": [
    {
     "data": {
      "text/plain": [
       "0.7003367003367004"
      ]
     },
     "execution_count": 237,
     "metadata": {},
     "output_type": "execute_result"
    }
   ],
   "source": [
    "sklearn.metrics.accuracy_score(tar_test, predictions3)"
   ]
  },
  {
   "cell_type": "code",
   "execution_count": 400,
   "metadata": {},
   "outputs": [
    {
     "data": {
      "image/png": "[encoded data removed]",
      "text/plain": [
       "<Figure size 432x288 with 1 Axes>"
      ]
     },
     "metadata": {},
     "output_type": "display_data"
    },
    {
     "name": "stdout",
     "output_type": "stream",
     "text": [
      "0.4666666666666667\n"
     ]
    },
    {
     "data": {
      "image/png": "[encoded data removed]",
      "text/plain": [
       "<Figure size 432x288 with 1 Axes>"
      ]
     },
     "metadata": {},
     "output_type": "display_data"
    }
   ],
   "source": [
    "## K-means on Age\n",
    "from sklearn.cluster import KMeans\n",
    "\n",
    "iris = pd.read_csv('../iris.data', header=None)\n",
    "\n",
    "iris_map = {'Iris-setosa':1, 'Iris-versicolor':2, 'Iris-virginica':3}\n",
    "iris[5] = iris[4].map(iris_map)\n",
    "\n",
    "#print(iris.iloc[:, 0:4])\n",
    "\n",
    "pred_train, pred_test, tar_train, tar_test = train_test_split(iris.iloc[:, 0:2], iris.iloc[:, 5], test_size=0.4)\n",
    "\n",
    "# train = pd.DataFrame({'x': pred_train, 'y':tar_train})\n",
    "# test = pd.DataFrame({'x': pred_test, 'y':tar_test})\n",
    "\n",
    "# train.head()\n",
    "# test.head()\n",
    "#print(pred_train.loc[tar_train==1, :])\n",
    "#print(tar_train==1)\n",
    "\n",
    "plt.plot(pred_train.loc[tar_train == 1, 0], pred_train.loc[tar_train == 1, 1], 'ro')\n",
    "plt.plot(pred_train.loc[tar_train == 2, 0], pred_train.loc[tar_train == 2, 1], 'bo')\n",
    "plt.plot(pred_train.loc[tar_train == 3, 0], pred_train.loc[tar_train == 3, 1], 'go')\n",
    "plt.show()\n",
    "\n",
    "kmeans = KMeans(n_clusters=3, n_jobs=4, random_state=21)\n",
    "kmeans.fit(pred_train)\n",
    "\n",
    "Kpred = kmeans.predict(pred_test)\n",
    "\n",
    "sklearn.metrics.confusion_matrix(tar_test, Kpred)\n",
    "print(sklearn.metrics.accuracy_score(tar_test, Kpred))\n",
    "centroids = kmeans.cluster_centers_\n",
    "\n",
    "plt.plot(pred_test.loc[Kpred == 0, 0], pred_test.loc[Kpred == 0, 1], 'ro')\n",
    "plt.plot(pred_test.loc[Kpred == 1, 0], pred_test.loc[Kpred == 1, 1], 'bo')\n",
    "plt.plot(pred_test.loc[Kpred == 2, 0], pred_test.loc[Kpred == 2, 1], 'go')\n",
    "plt.show()\n"
   ]
  },
  {
   "cell_type": "code",
   "execution_count": null,
   "metadata": {},
   "outputs": [],
   "source": []
  },
  {
   "cell_type": "code",
   "execution_count": null,
   "metadata": {},
   "outputs": [],
   "source": []
  },
  {
   "cell_type": "code",
   "execution_count": null,
   "metadata": {},
   "outputs": [],
   "source": []
  }
 ],
 "metadata": {
  "kernelspec": {
   "display_name": "Python 3",
   "language": "python",
   "name": "python3"
  },
  "language_info": {
   "codemirror_mode": {
    "name": "ipython",
    "version": 3
   },
   "file_extension": ".py",
   "mimetype": "text/x-python",
   "name": "python",
   "nbconvert_exporter": "python",
   "pygments_lexer": "ipython3",
   "version": "3.7.3"
  }
 },
 "nbformat": 4,
 "nbformat_minor": 4
}
